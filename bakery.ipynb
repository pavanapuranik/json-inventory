{
  "nbformat": 4,
  "nbformat_minor": 0,
  "metadata": {
    "colab": {
      "name": "bakery.ipynb",
      "provenance": [],
      "collapsed_sections": []
    },
    "kernelspec": {
      "name": "python3",
      "display_name": "Python 3"
    },
    "language_info": {
      "name": "python"
    }
  },
  "cells": [
    {
      "cell_type": "code",
      "metadata": {
        "id": "bWhk31DbUkcx"
      },
      "source": [
        "record= {101 : {\"Name\": \"Fivestar\", \"Price\": 10, \"Quantity\" : 100,\"Company\" : \"Cadbury\", \"Best Before\" : \"5 months\"},\n",
        "        102 : {\"Name\": \"Eclairs\",  \"Price\": 1, \"Quantity\" : 500, \"Company\" : \"Cadbury\", \"Best Before\" : \"5 months\"},\n",
        "        103: {\"Name\": \"Diary Milk\", \"Price\": 20, \"Quantity\" : 200, \"Company\" : \"Cadbury\", \"Best Before\" : \"5 months\"},\n",
        "        104: {\"Name\": \"Bounty\", \"Price\": 50, \"Quantity\" : 100,  \"Company\" : \"PNG\", \"Best Before\" : \"5 months\"},\n",
        "        105: {\"Name\": \"Kinder Joy\" , \"Price\": 30, \"Quantity\" : 25 , \"Company\" : \"Ferrero\", \"Best Before\" : \"5 months\"},\n",
        "        106: {\"Name\": \"Oreo\", \"Price\": 10, \"Quantity\" : 50, \"Company\" : \"ITC\",\"Best Before\" : \"5 months\"},\n",
        "        107: {\"Name\": \"Dark Fantasy\", \"Price\": 30, \"Quantity\" : 20, \"Company\" : \"ITC\",\"Best Before\" : \"5 months\"},\n",
        "        108: {\"Name\": \"Hide and Seek\" , \"Price\": 10, \"Quantity\" : 20, \"Company\" : \"ITC\",\"Best Before\" : \"5 months\"},\n",
        "        109: {\"Name\": \"Gooday\", \"Price\": 10, \"Quantity\" : 20, \"Company\" : \"ITC\",\"Best Before\" : \"5 months\"},\n",
        "        110: {\"Name\": \"Parle G\", \"Price\": 5, \"Quantity\" : 20, \"Company\" : \"ITC\",\"Best Before\" : \"5 months\"},\n",
        "        111 : {\"Name\": \"Red velvet\" , \"Price\": 40, \"Quantity\" : 1, \"Company\" : \"Pillsbury\",\"Best Before\" : \"5 months\"},\n",
        "        112 : {\"Name\": \"Lavacake\", \"Price\": 35, \"Quantity\" : 1, \"Company\" : \"Pillsbury\",\"Best Before\" : \"NA\"},\n",
        "        113: {\"Name\": \"Death by Chocolate\" , \"Price\": 45, \"Quantity\" : 1, \"Company\" : \"Pillsbury\", \"Best Before\" : \"NA\"},\n",
        "        114: {\"Name\": \"butterscotch\", \"Price\": 40, \"Quantity\" : 1, \"Company\" : \"Pillsbury\",\"Best Before\" : \"NA\"},\n",
        "        115: {\"Name\": \"chocolatecake\", \"Price\": 35, \"Quantity\" : 1, \"Company\" : \"Pillsbury\", \"Best Before\" : \"NA\"},\n",
        "        116: {\"Name\": \"Lays\", \"Price\": 10, \"Quantity\" : 20, \"Company\" : \"ITC\", \"Best Before\" : \"1 month\"},\n",
        "        117: {\"Name\": \"kurkure\", \"Price\": 10, \"Quantity\" : 20, \"Company\" : \"ITC\", \"Best Before\" : \"1 month\"},\n",
        "        118: {\"Name\": \"bingo\", \"Price\": 10, \"Quantity\" : 20, \"Company\" : \"ITC\", \"Best Before\" : \"1 month\"},\n",
        "        119: {\"Name\": \"moongdhal\"   , \"Price\": 10, \"Quantity\" : 20, \"Company\" : \"ITC\", \"Best Before\" : \"1 month\"},\n",
        "        120: {\"Name\": \"littlehearts\", \"Price\": 5, \"Quantity\" : 15, \"Company\" : \"ITC\", \"Best Before\" : \"1 month\"},\n",
        "        121 : {\"Name\": \"TooYum\" , \"Price\": 10, \"Quantity\" : 15, \"Company\" : \"ITC\", \"Best Before\" : \"1 month\"},\n",
        "        122 : {\"Name\": \"Samosa\", \"Price\": 10, \"Quantity\" : 10, \"Company\" : \"Pillsbury\", \"Best Before\" : \"NA\"},\n",
        "        123: {\"Name\": \"maggie\", \"Price\": 10, \"Quantity\" : 10, \"Company\" : \"Nestle\",  \"Best Before\" : \"1 month\"},\n",
        "        124: {\"Name\": \"eggpuff\", \"Price\": 15, \"Quantity\" : 10, \"Company\" : \"Pillsbury\", \"Best Before\" : \"NA\"},\n",
        "        125: {\"Name\": \"vegpuff\", \"Price\": 12, \"Quantity\" : 10, \"Company\" : \"Pillsbury\", \"Best Before\" : \"NA\"},\n",
        "        126: {\"Name\": \"bread\", \"Price\": 25, \"Quantity\" : 5, \"Company\" : \"Pillsbury\", \"Best Before\" : \"NA\"},\n",
        "        127: {\"Name\": \"sandwich\", \"Price\": 35, \"Quantity\" : 15, \"Company\" : \"Pillsbury\", \"Best Before\" : \"NA\"},\n",
        "        128: {\"Name\": \"icecream\", \"Price\": 50, \"Quantity\" : 50, \"Company\" : \"Amul\", \"Best Before\" : \"NA\"},\n",
        "        129: {\"Name\": \"juice\", \"Price\": 30, \"Quantity\" : 10, \"Company\" : \"Frootie\", \"Best Before\" : \"NA\"},\n",
        "        130: {\"Name\": \"Buns\", \"Price\": 20, \"Quantity\" : 10, \"Company\" : \"Pillsbury\", \"Best Before\" : \"NA\"}}\n",
        "    "
      ],
      "execution_count": 9,
      "outputs": []
    },
    {
      "cell_type": "code",
      "metadata": {
        "colab": {
          "base_uri": "https://localhost:8080/",
          "height": 406
        },
        "id": "07IW5Mpwbyzp",
        "outputId": "606996c2-3d46-479b-b366-44fe539ee0d3"
      },
      "source": [
        "import json\n",
        "\n",
        "js = json.dumps(record)\n",
        "\n",
        "js"
      ],
      "execution_count": 12,
      "outputs": [
        {
          "output_type": "execute_result",
          "data": {
            "application/vnd.google.colaboratory.intrinsic+json": {
              "type": "string"
            },
            "text/plain": [
              "'{\"101\": {\"Name\": \"Fivestar\", \"Price\": 10, \"Quantity\": 100, \"Company\": \"Cadbury\", \"Best Before\": \"5 months\"}, \"102\": {\"Name\": \"Eclairs\", \"Price\": 1, \"Quantity\": 500, \"Company\": \"Cadbury\", \"Best Before\": \"5 months\"}, \"103\": {\"Name\": \"Diary Milk\", \"Price\": 20, \"Quantity\": 200, \"Company\": \"Cadbury\", \"Best Before\": \"5 months\"}, \"104\": {\"Name\": \"Bounty\", \"Price\": 50, \"Quantity\": 100, \"Company\": \"PNG\", \"Best Before\": \"5 months\"}, \"105\": {\"Name\": \"Kinder Joy\", \"Price\": 30, \"Quantity\": 25, \"Company\": \"Ferrero\", \"Best Before\": \"5 months\"}, \"106\": {\"Name\": \"Oreo\", \"Price\": 10, \"Quantity\": 50, \"Company\": \"ITC\", \"Best Before\": \"5 months\"}, \"107\": {\"Name\": \"Dark Fantasy\", \"Price\": 30, \"Quantity\": 20, \"Company\": \"ITC\", \"Best Before\": \"5 months\"}, \"108\": {\"Name\": \"Hide and Seek\", \"Price\": 10, \"Quantity\": 20, \"Company\": \"ITC\", \"Best Before\": \"5 months\"}, \"109\": {\"Name\": \"Gooday\", \"Price\": 10, \"Quantity\": 20, \"Company\": \"ITC\", \"Best Before\": \"5 months\"}, \"110\": {\"Name\": \"Parle G\", \"Price\": 5, \"Quantity\": 20, \"Company\": \"ITC\", \"Best Before\": \"5 months\"}, \"111\": {\"Name\": \"Red velvet\", \"Price\": 40, \"Quantity\": 1, \"Company\": \"Pillsbury\", \"Best Before\": \"5 months\"}, \"112\": {\"Name\": \"Lavacake\", \"Price\": 35, \"Quantity\": 1, \"Company\": \"Pillsbury\", \"Best Before\": \"NA\"}, \"113\": {\"Name\": \"Death by Chocolate\", \"Price\": 45, \"Quantity\": 1, \"Company\": \"Pillsbury\", \"Best Before\": \"NA\"}, \"114\": {\"Name\": \"butterscotch\", \"Price\": 40, \"Quantity\": 1, \"Company\": \"Pillsbury\", \"Best Before\": \"NA\"}, \"115\": {\"Name\": \"chocolatecake\", \"Price\": 35, \"Quantity\": 1, \"Company\": \"Pillsbury\", \"Best Before\": \"NA\"}, \"116\": {\"Name\": \"Lays\", \"Price\": 10, \"Quantity\": 20, \"Company\": \"ITC\", \"Best Before\": \"1 month\"}, \"117\": {\"Name\": \"kurkure\", \"Price\": 10, \"Quantity\": 20, \"Company\": \"ITC\", \"Best Before\": \"1 month\"}, \"118\": {\"Name\": \"bingo\", \"Price\": 10, \"Quantity\": 20, \"Company\": \"ITC\", \"Best Before\": \"1 month\"}, \"119\": {\"Name\": \"moongdhal\", \"Price\": 10, \"Quantity\": 20, \"Company\": \"ITC\", \"Best Before\": \"1 month\"}, \"120\": {\"Name\": \"littlehearts\", \"Price\": 5, \"Quantity\": 15, \"Company\": \"ITC\", \"Best Before\": \"1 month\"}, \"121\": {\"Name\": \"TooYum\", \"Price\": 10, \"Quantity\": 15, \"Company\": \"ITC\", \"Best Before\": \"1 month\"}, \"122\": {\"Name\": \"Samosa\", \"Price\": 10, \"Quantity\": 10, \"Company\": \"Pillsbury\", \"Best Before\": \"NA\"}, \"123\": {\"Name\": \"maggie\", \"Price\": 10, \"Quantity\": 7.8, \"Company\": \"Nestle\", \"Best Before\": \"1 month\"}, \"124\": {\"Name\": \"eggpuff\", \"Price\": 15, \"Quantity\": 7.8, \"Company\": \"Pillsbury\", \"Best Before\": \"NA\"}, \"125\": {\"Name\": \"vegpuff\", \"Price\": 12, \"Quantity\": 7.8, \"Company\": \"Pillsbury\", \"Best Before\": \"NA\"}, \"126\": {\"Name\": \"bread\", \"Price\": 25, \"Quantity\": 7.8, \"Company\": \"Pillsbury\", \"Best Before\": \"NA\"}, \"127\": {\"Name\": \"sandwich\", \"Price\": 35, \"Quantity\": 7.8, \"Company\": \"Pillsbury\", \"Best Before\": \"NA\"}, \"128\": {\"Name\": \"icecream\", \"Price\": 50, \"Quantity\": 7.8, \"Company\": \"Amul\", \"Best Before\": \"NA\"}, \"129\": {\"Name\": \"juice\", \"Price\": 30, \"Quantity\": 7.8, \"Company\": \"Frootie\", \"Best Before\": \"NA\"}, \"130\": {\"Name\": \"Buns\", \"Price\": 20, \"Quantity\": 7.8, \"Company\": \"Pillsbury\", \"Best Before\": \"NA\"}}'"
            ]
          },
          "metadata": {},
          "execution_count": 12
        }
      ]
    },
    {
      "cell_type": "code",
      "metadata": {
        "id": "T7q__LYob3xS"
      },
      "source": [
        "fd = open(\"record.json\",'w')\n",
        "\n",
        "fd.write(js)\n",
        "\n",
        "fd.close()"
      ],
      "execution_count": 20,
      "outputs": []
    },
    {
      "cell_type": "code",
      "metadata": {
        "colab": {
          "base_uri": "https://localhost:8080/",
          "height": 522
        },
        "id": "0t7-4UctdsXB",
        "outputId": "b3c6d7a6-856e-4613-dc16-4b1113808ac8"
      },
      "source": [
        "while True:\n",
        "  s=int(input(\"enter the product id=\"))\n",
        "\n",
        "  q=int(input(\"enter quantity=\"))\n",
        "\n",
        "  if s in record.keys():\n",
        "    print(\"total amount=\",q*record[s][\"Price\"])\n",
        "\n",
        "    record[s][\"Quantity\"]-=q\n",
        "\n",
        "  else:\n",
        "    print(\"Item not found\")"
      ],
      "execution_count": 24,
      "outputs": [
        {
          "output_type": "error",
          "ename": "KeyboardInterrupt",
          "evalue": "ignored",
          "traceback": [
            "\u001b[0;31m---------------------------------------------------------------------------\u001b[0m",
            "\u001b[0;31mKeyboardInterrupt\u001b[0m                         Traceback (most recent call last)",
            "\u001b[0;32m/usr/local/lib/python3.7/dist-packages/ipykernel/kernelbase.py\u001b[0m in \u001b[0;36m_input_request\u001b[0;34m(self, prompt, ident, parent, password)\u001b[0m\n\u001b[1;32m    728\u001b[0m             \u001b[0;32mtry\u001b[0m\u001b[0;34m:\u001b[0m\u001b[0;34m\u001b[0m\u001b[0;34m\u001b[0m\u001b[0m\n\u001b[0;32m--> 729\u001b[0;31m                 \u001b[0mident\u001b[0m\u001b[0;34m,\u001b[0m \u001b[0mreply\u001b[0m \u001b[0;34m=\u001b[0m \u001b[0mself\u001b[0m\u001b[0;34m.\u001b[0m\u001b[0msession\u001b[0m\u001b[0;34m.\u001b[0m\u001b[0mrecv\u001b[0m\u001b[0;34m(\u001b[0m\u001b[0mself\u001b[0m\u001b[0;34m.\u001b[0m\u001b[0mstdin_socket\u001b[0m\u001b[0;34m,\u001b[0m \u001b[0;36m0\u001b[0m\u001b[0;34m)\u001b[0m\u001b[0;34m\u001b[0m\u001b[0;34m\u001b[0m\u001b[0m\n\u001b[0m\u001b[1;32m    730\u001b[0m             \u001b[0;32mexcept\u001b[0m \u001b[0mException\u001b[0m\u001b[0;34m:\u001b[0m\u001b[0;34m\u001b[0m\u001b[0;34m\u001b[0m\u001b[0m\n",
            "\u001b[0;32m/usr/local/lib/python3.7/dist-packages/jupyter_client/session.py\u001b[0m in \u001b[0;36mrecv\u001b[0;34m(self, socket, mode, content, copy)\u001b[0m\n\u001b[1;32m    802\u001b[0m         \u001b[0;32mtry\u001b[0m\u001b[0;34m:\u001b[0m\u001b[0;34m\u001b[0m\u001b[0;34m\u001b[0m\u001b[0m\n\u001b[0;32m--> 803\u001b[0;31m             \u001b[0mmsg_list\u001b[0m \u001b[0;34m=\u001b[0m \u001b[0msocket\u001b[0m\u001b[0;34m.\u001b[0m\u001b[0mrecv_multipart\u001b[0m\u001b[0;34m(\u001b[0m\u001b[0mmode\u001b[0m\u001b[0;34m,\u001b[0m \u001b[0mcopy\u001b[0m\u001b[0;34m=\u001b[0m\u001b[0mcopy\u001b[0m\u001b[0;34m)\u001b[0m\u001b[0;34m\u001b[0m\u001b[0;34m\u001b[0m\u001b[0m\n\u001b[0m\u001b[1;32m    804\u001b[0m         \u001b[0;32mexcept\u001b[0m \u001b[0mzmq\u001b[0m\u001b[0;34m.\u001b[0m\u001b[0mZMQError\u001b[0m \u001b[0;32mas\u001b[0m \u001b[0me\u001b[0m\u001b[0;34m:\u001b[0m\u001b[0;34m\u001b[0m\u001b[0;34m\u001b[0m\u001b[0m\n",
            "\u001b[0;32m/usr/local/lib/python3.7/dist-packages/zmq/sugar/socket.py\u001b[0m in \u001b[0;36mrecv_multipart\u001b[0;34m(self, flags, copy, track)\u001b[0m\n\u001b[1;32m    618\u001b[0m         \"\"\"\n\u001b[0;32m--> 619\u001b[0;31m         \u001b[0mparts\u001b[0m \u001b[0;34m=\u001b[0m \u001b[0;34m[\u001b[0m\u001b[0mself\u001b[0m\u001b[0;34m.\u001b[0m\u001b[0mrecv\u001b[0m\u001b[0;34m(\u001b[0m\u001b[0mflags\u001b[0m\u001b[0;34m,\u001b[0m \u001b[0mcopy\u001b[0m\u001b[0;34m=\u001b[0m\u001b[0mcopy\u001b[0m\u001b[0;34m,\u001b[0m \u001b[0mtrack\u001b[0m\u001b[0;34m=\u001b[0m\u001b[0mtrack\u001b[0m\u001b[0;34m)\u001b[0m\u001b[0;34m]\u001b[0m\u001b[0;34m\u001b[0m\u001b[0;34m\u001b[0m\u001b[0m\n\u001b[0m\u001b[1;32m    620\u001b[0m         \u001b[0;31m# have first part already, only loop while more to receive\u001b[0m\u001b[0;34m\u001b[0m\u001b[0;34m\u001b[0m\u001b[0;34m\u001b[0m\u001b[0m\n",
            "\u001b[0;32mzmq/backend/cython/socket.pyx\u001b[0m in \u001b[0;36mzmq.backend.cython.socket.Socket.recv\u001b[0;34m()\u001b[0m\n",
            "\u001b[0;32mzmq/backend/cython/socket.pyx\u001b[0m in \u001b[0;36mzmq.backend.cython.socket.Socket.recv\u001b[0;34m()\u001b[0m\n",
            "\u001b[0;32mzmq/backend/cython/socket.pyx\u001b[0m in \u001b[0;36mzmq.backend.cython.socket._recv_copy\u001b[0;34m()\u001b[0m\n",
            "\u001b[0;32m/usr/local/lib/python3.7/dist-packages/zmq/backend/cython/checkrc.pxd\u001b[0m in \u001b[0;36mzmq.backend.cython.checkrc._check_rc\u001b[0;34m()\u001b[0m\n",
            "\u001b[0;31mKeyboardInterrupt\u001b[0m: ",
            "\nDuring handling of the above exception, another exception occurred:\n",
            "\u001b[0;31mKeyboardInterrupt\u001b[0m                         Traceback (most recent call last)",
            "\u001b[0;32m<ipython-input-24-8deea0de7082>\u001b[0m in \u001b[0;36m<module>\u001b[0;34m()\u001b[0m\n\u001b[1;32m      1\u001b[0m \u001b[0;32mwhile\u001b[0m \u001b[0;32mTrue\u001b[0m\u001b[0;34m:\u001b[0m\u001b[0;34m\u001b[0m\u001b[0;34m\u001b[0m\u001b[0m\n\u001b[0;32m----> 2\u001b[0;31m   \u001b[0ms\u001b[0m\u001b[0;34m=\u001b[0m\u001b[0mint\u001b[0m\u001b[0;34m(\u001b[0m\u001b[0minput\u001b[0m\u001b[0;34m(\u001b[0m\u001b[0;34m\"enter the product id=\"\u001b[0m\u001b[0;34m)\u001b[0m\u001b[0;34m)\u001b[0m\u001b[0;34m\u001b[0m\u001b[0;34m\u001b[0m\u001b[0m\n\u001b[0m\u001b[1;32m      3\u001b[0m \u001b[0;34m\u001b[0m\u001b[0m\n\u001b[1;32m      4\u001b[0m   \u001b[0mq\u001b[0m\u001b[0;34m=\u001b[0m\u001b[0mint\u001b[0m\u001b[0;34m(\u001b[0m\u001b[0minput\u001b[0m\u001b[0;34m(\u001b[0m\u001b[0;34m\"enter quantity=\"\u001b[0m\u001b[0;34m)\u001b[0m\u001b[0;34m)\u001b[0m\u001b[0;34m\u001b[0m\u001b[0;34m\u001b[0m\u001b[0m\n\u001b[1;32m      5\u001b[0m \u001b[0;34m\u001b[0m\u001b[0m\n",
            "\u001b[0;32m/usr/local/lib/python3.7/dist-packages/ipykernel/kernelbase.py\u001b[0m in \u001b[0;36mraw_input\u001b[0;34m(self, prompt)\u001b[0m\n\u001b[1;32m    702\u001b[0m             \u001b[0mself\u001b[0m\u001b[0;34m.\u001b[0m\u001b[0m_parent_ident\u001b[0m\u001b[0;34m,\u001b[0m\u001b[0;34m\u001b[0m\u001b[0;34m\u001b[0m\u001b[0m\n\u001b[1;32m    703\u001b[0m             \u001b[0mself\u001b[0m\u001b[0;34m.\u001b[0m\u001b[0m_parent_header\u001b[0m\u001b[0;34m,\u001b[0m\u001b[0;34m\u001b[0m\u001b[0;34m\u001b[0m\u001b[0m\n\u001b[0;32m--> 704\u001b[0;31m             \u001b[0mpassword\u001b[0m\u001b[0;34m=\u001b[0m\u001b[0;32mFalse\u001b[0m\u001b[0;34m,\u001b[0m\u001b[0;34m\u001b[0m\u001b[0;34m\u001b[0m\u001b[0m\n\u001b[0m\u001b[1;32m    705\u001b[0m         )\n\u001b[1;32m    706\u001b[0m \u001b[0;34m\u001b[0m\u001b[0m\n",
            "\u001b[0;32m/usr/local/lib/python3.7/dist-packages/ipykernel/kernelbase.py\u001b[0m in \u001b[0;36m_input_request\u001b[0;34m(self, prompt, ident, parent, password)\u001b[0m\n\u001b[1;32m    732\u001b[0m             \u001b[0;32mexcept\u001b[0m \u001b[0mKeyboardInterrupt\u001b[0m\u001b[0;34m:\u001b[0m\u001b[0;34m\u001b[0m\u001b[0;34m\u001b[0m\u001b[0m\n\u001b[1;32m    733\u001b[0m                 \u001b[0;31m# re-raise KeyboardInterrupt, to truncate traceback\u001b[0m\u001b[0;34m\u001b[0m\u001b[0;34m\u001b[0m\u001b[0;34m\u001b[0m\u001b[0m\n\u001b[0;32m--> 734\u001b[0;31m                 \u001b[0;32mraise\u001b[0m \u001b[0mKeyboardInterrupt\u001b[0m\u001b[0;34m\u001b[0m\u001b[0;34m\u001b[0m\u001b[0m\n\u001b[0m\u001b[1;32m    735\u001b[0m             \u001b[0;32melse\u001b[0m\u001b[0;34m:\u001b[0m\u001b[0;34m\u001b[0m\u001b[0;34m\u001b[0m\u001b[0m\n\u001b[1;32m    736\u001b[0m                 \u001b[0;32mbreak\u001b[0m\u001b[0;34m\u001b[0m\u001b[0;34m\u001b[0m\u001b[0m\n",
            "\u001b[0;31mKeyboardInterrupt\u001b[0m: "
          ]
        }
      ]
    },
    {
      "cell_type": "code",
      "metadata": {
        "id": "kFkz-F78eO8P"
      },
      "source": [
        "import json\n",
        "\n",
        "js = json.dumps(record)\n",
        "\n",
        "js\n",
        "\n",
        "fd = open(\"sales.json\",'w')\n",
        "\n",
        "fd.write(js)\n",
        "\n",
        "fd.close()"
      ],
      "execution_count": 19,
      "outputs": []
    },
    {
      "cell_type": "code",
      "metadata": {
        "id": "vMaFNV7Xecam"
      },
      "source": [
        "fd = open(\"record.txt\",'r')\n",
        "\n",
        "txt = fd.read()\n",
        "\n",
        "fd.close()"
      ],
      "execution_count": 21,
      "outputs": []
    },
    {
      "cell_type": "code",
      "metadata": {
        "colab": {
          "base_uri": "https://localhost:8080/"
        },
        "id": "WJI5K-6ifT6g",
        "outputId": "2cf3f4cb-24d8-4e07-dc97-379b4c3f1837"
      },
      "source": [
        "record = json.loads(txt)\n",
        "\n",
        "record"
      ],
      "execution_count": 23,
      "outputs": [
        {
          "output_type": "execute_result",
          "data": {
            "text/plain": [
              "{'101': {'Best Before': '5 months',\n",
              "  'Company': 'Cadbury',\n",
              "  'Name': 'Fivestar',\n",
              "  'Price': 10,\n",
              "  'Quantity': 100},\n",
              " '102': {'Best Before': '5 months',\n",
              "  'Company': 'Cadbury',\n",
              "  'Name': 'Eclairs',\n",
              "  'Price': 1,\n",
              "  'Quantity': 300},\n",
              " '103': {'Best Before': '5 months',\n",
              "  'Company': 'Cadbury',\n",
              "  'Name': 'Diary Milk',\n",
              "  'Price': 20,\n",
              "  'Quantity': 200},\n",
              " '104': {'Best Before': '5 months',\n",
              "  'Company': 'PNG',\n",
              "  'Name': 'Bounty',\n",
              "  'Price': 50,\n",
              "  'Quantity': 100},\n",
              " '105': {'Best Before': '5 months',\n",
              "  'Company': 'Ferrero',\n",
              "  'Name': 'Kinder Joy',\n",
              "  'Price': 30,\n",
              "  'Quantity': -75},\n",
              " '106': {'Best Before': '5 months',\n",
              "  'Company': 'ITC',\n",
              "  'Name': 'Oreo',\n",
              "  'Price': 10,\n",
              "  'Quantity': 50},\n",
              " '107': {'Best Before': '5 months',\n",
              "  'Company': 'ITC',\n",
              "  'Name': 'Dark Fantasy',\n",
              "  'Price': 30,\n",
              "  'Quantity': 20},\n",
              " '108': {'Best Before': '5 months',\n",
              "  'Company': 'ITC',\n",
              "  'Name': 'Hide and Seek',\n",
              "  'Price': 10,\n",
              "  'Quantity': 20},\n",
              " '109': {'Best Before': '5 months',\n",
              "  'Company': 'ITC',\n",
              "  'Name': 'Gooday',\n",
              "  'Price': 10,\n",
              "  'Quantity': 20},\n",
              " '110': {'Best Before': '5 months',\n",
              "  'Company': 'ITC',\n",
              "  'Name': 'Parle G',\n",
              "  'Price': 5,\n",
              "  'Quantity': 20},\n",
              " '111': {'Best Before': '5 months',\n",
              "  'Company': 'Pillsbury',\n",
              "  'Name': 'Red velvet',\n",
              "  'Price': 40,\n",
              "  'Quantity': 1},\n",
              " '112': {'Best Before': 'NA',\n",
              "  'Company': 'Pillsbury',\n",
              "  'Name': 'Lavacake',\n",
              "  'Price': 35,\n",
              "  'Quantity': 1},\n",
              " '113': {'Best Before': 'NA',\n",
              "  'Company': 'Pillsbury',\n",
              "  'Name': 'Death by Chocolate',\n",
              "  'Price': 45,\n",
              "  'Quantity': 1},\n",
              " '114': {'Best Before': 'NA',\n",
              "  'Company': 'Pillsbury',\n",
              "  'Name': 'butterscotch',\n",
              "  'Price': 40,\n",
              "  'Quantity': 1},\n",
              " '115': {'Best Before': 'NA',\n",
              "  'Company': 'Pillsbury',\n",
              "  'Name': 'chocolatecake',\n",
              "  'Price': 35,\n",
              "  'Quantity': 1},\n",
              " '116': {'Best Before': '1 month',\n",
              "  'Company': 'ITC',\n",
              "  'Name': 'Lays',\n",
              "  'Price': 10,\n",
              "  'Quantity': 20},\n",
              " '117': {'Best Before': '1 month',\n",
              "  'Company': 'ITC',\n",
              "  'Name': 'kurkure',\n",
              "  'Price': 10,\n",
              "  'Quantity': 20},\n",
              " '118': {'Best Before': '1 month',\n",
              "  'Company': 'ITC',\n",
              "  'Name': 'bingo',\n",
              "  'Price': 10,\n",
              "  'Quantity': 20},\n",
              " '119': {'Best Before': '1 month',\n",
              "  'Company': 'ITC',\n",
              "  'Name': 'moongdhal',\n",
              "  'Price': 10,\n",
              "  'Quantity': 20},\n",
              " '120': {'Best Before': '1 month',\n",
              "  'Company': 'ITC',\n",
              "  'Name': 'littlehearts',\n",
              "  'Price': 5,\n",
              "  'Quantity': 15},\n",
              " '121': {'Best Before': '1 month',\n",
              "  'Company': 'ITC',\n",
              "  'Name': 'TooYum',\n",
              "  'Price': 10,\n",
              "  'Quantity': 15},\n",
              " '122': {'Best Before': 'NA',\n",
              "  'Company': 'Pillsbury',\n",
              "  'Name': 'Samosa',\n",
              "  'Price': 10,\n",
              "  'Quantity': 10},\n",
              " '123': {'Best Before': '1 month',\n",
              "  'Company': 'Nestle',\n",
              "  'Name': 'maggie',\n",
              "  'Price': 10,\n",
              "  'Quantity': 7.8},\n",
              " '124': {'Best Before': 'NA',\n",
              "  'Company': 'Pillsbury',\n",
              "  'Name': 'eggpuff',\n",
              "  'Price': 15,\n",
              "  'Quantity': 7.8},\n",
              " '125': {'Best Before': 'NA',\n",
              "  'Company': 'Pillsbury',\n",
              "  'Name': 'vegpuff',\n",
              "  'Price': 12,\n",
              "  'Quantity': -12.2},\n",
              " '126': {'Best Before': 'NA',\n",
              "  'Company': 'Pillsbury',\n",
              "  'Name': 'bread',\n",
              "  'Price': 25,\n",
              "  'Quantity': 7.8},\n",
              " '127': {'Best Before': 'NA',\n",
              "  'Company': 'Pillsbury',\n",
              "  'Name': 'sandwich',\n",
              "  'Price': 35,\n",
              "  'Quantity': 7.8},\n",
              " '128': {'Best Before': 'NA',\n",
              "  'Company': 'Amul',\n",
              "  'Name': 'icecream',\n",
              "  'Price': 50,\n",
              "  'Quantity': 7.8},\n",
              " '129': {'Best Before': 'NA',\n",
              "  'Company': 'Frootie',\n",
              "  'Name': 'juice',\n",
              "  'Price': 30,\n",
              "  'Quantity': 7.8},\n",
              " '130': {'Best Before': 'NA',\n",
              "  'Company': 'Pillsbury',\n",
              "  'Name': 'Buns',\n",
              "  'Price': 20,\n",
              "  'Quantity': 7.8}}"
            ]
          },
          "metadata": {},
          "execution_count": 23
        }
      ]
    }
  ]
}
